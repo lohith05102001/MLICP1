{
  "nbformat": 4,
  "nbformat_minor": 0,
  "metadata": {
    "colab": {
      "provenance": [],
      "authorship_tag": "ABX9TyPgzYAVIqMjaGKZpU6AgHTM",
      "include_colab_link": true
    },
    "kernelspec": {
      "name": "python3",
      "display_name": "Python 3"
    },
    "language_info": {
      "name": "python"
    }
  },
  "cells": [
    {
      "cell_type": "markdown",
      "metadata": {
        "id": "view-in-github",
        "colab_type": "text"
      },
      "source": [
        "<a href=\"https://colab.research.google.com/github/lohith05102001/MLICP1/blob/main/ICP1.ipynb\" target=\"_parent\"><img src=\"https://colab.research.google.com/assets/colab-badge.svg\" alt=\"Open In Colab\"/></a>"
      ]
    },
    {
      "cell_type": "code",
      "execution_count": 65,
      "metadata": {
        "id": "bKUwaBoHcHpJ"
      },
      "outputs": [],
      "source": [
        "ages = [19, 22, 19, 24, 20, 25, 26, 24, 25, 24]"
      ]
    },
    {
      "cell_type": "code",
      "source": [
        "ages.sort()  #sorts the data inside the ages"
      ],
      "metadata": {
        "id": "kvyRk2i_gHiU"
      },
      "execution_count": 66,
      "outputs": []
    },
    {
      "cell_type": "code",
      "source": [
        "ages # prints the content in ages"
      ],
      "metadata": {
        "colab": {
          "base_uri": "https://localhost:8080/"
        },
        "id": "ypu49bJegOFG",
        "outputId": "4dd5ff0d-1c81-4c60-ee8d-4bc972c8e944"
      },
      "execution_count": 67,
      "outputs": [
        {
          "output_type": "execute_result",
          "data": {
            "text/plain": [
              "[19, 19, 20, 22, 24, 24, 24, 25, 25, 26]"
            ]
          },
          "metadata": {},
          "execution_count": 67
        }
      ]
    },
    {
      "cell_type": "code",
      "source": [
        "min(ages) # gives minimum value"
      ],
      "metadata": {
        "colab": {
          "base_uri": "https://localhost:8080/"
        },
        "id": "jo0B3P9wgTOv",
        "outputId": "c9c7c611-336f-4eb4-bc2c-8c86fbca76d2"
      },
      "execution_count": 68,
      "outputs": [
        {
          "output_type": "execute_result",
          "data": {
            "text/plain": [
              "19"
            ]
          },
          "metadata": {},
          "execution_count": 68
        }
      ]
    },
    {
      "cell_type": "code",
      "source": [
        "ages.append(19)\n",
        "ages"
      ],
      "metadata": {
        "colab": {
          "base_uri": "https://localhost:8080/"
        },
        "id": "MpXUVr7tgWPh",
        "outputId": "15c13d43-28db-4192-f3b8-ca20ed586441"
      },
      "execution_count": 69,
      "outputs": [
        {
          "output_type": "execute_result",
          "data": {
            "text/plain": [
              "[19, 19, 20, 22, 24, 24, 24, 25, 25, 26, 19]"
            ]
          },
          "metadata": {},
          "execution_count": 69
        }
      ]
    },
    {
      "cell_type": "code",
      "source": [
        "max(ages) #gives maximum value"
      ],
      "metadata": {
        "colab": {
          "base_uri": "https://localhost:8080/"
        },
        "id": "iIsWSMyfgYtM",
        "outputId": "fb32474d-731f-44e3-9248-2dae260e8209"
      },
      "execution_count": 70,
      "outputs": [
        {
          "output_type": "execute_result",
          "data": {
            "text/plain": [
              "26"
            ]
          },
          "metadata": {},
          "execution_count": 70
        }
      ]
    },
    {
      "cell_type": "code",
      "source": [
        "ages.append(26)\n",
        "ages"
      ],
      "metadata": {
        "colab": {
          "base_uri": "https://localhost:8080/"
        },
        "id": "GTcVFVjyga1t",
        "outputId": "dfd96004-e158-4bc5-b4c0-45d994d9c420"
      },
      "execution_count": 71,
      "outputs": [
        {
          "output_type": "execute_result",
          "data": {
            "text/plain": [
              "[19, 19, 20, 22, 24, 24, 24, 25, 25, 26, 19, 26]"
            ]
          },
          "metadata": {},
          "execution_count": 71
        }
      ]
    },
    {
      "cell_type": "code",
      "source": [
        "n=len(ages) #gives the length"
      ],
      "metadata": {
        "id": "Cp7qwRfNgc8-"
      },
      "execution_count": 72,
      "outputs": []
    },
    {
      "cell_type": "code",
      "source": [
        "if n % 2 == 0:  # for even number of observations\n",
        "    median1 = ages[n//2]\n",
        "    median2 = ages[n//2 - 1]\n",
        "    median = (median1 + median2)/2 #average of median observations\n",
        "else:\n",
        "    median = ages[n//2]\n",
        "print(\"Median is: \" + str(median))"
      ],
      "metadata": {
        "colab": {
          "base_uri": "https://localhost:8080/"
        },
        "id": "X_wsWKwIgfk6",
        "outputId": "5e090ad1-7b1b-4737-d016-e592e0b6672e"
      },
      "execution_count": 73,
      "outputs": [
        {
          "output_type": "stream",
          "name": "stdout",
          "text": [
            "Median is: 24.0\n"
          ]
        }
      ]
    },
    {
      "cell_type": "code",
      "source": [
        "average=sum(ages)/len(ages)\n",
        "average  #mean of the data"
      ],
      "metadata": {
        "colab": {
          "base_uri": "https://localhost:8080/"
        },
        "id": "aqBG746mgig6",
        "outputId": "48948a33-5c4e-41c0-c2c8-07c078430dcb"
      },
      "execution_count": 74,
      "outputs": [
        {
          "output_type": "execute_result",
          "data": {
            "text/plain": [
              "22.75"
            ]
          },
          "metadata": {},
          "execution_count": 74
        }
      ]
    },
    {
      "cell_type": "code",
      "source": [
        "range=max(ages)-min(ages)\n",
        "range"
      ],
      "metadata": {
        "colab": {
          "base_uri": "https://localhost:8080/"
        },
        "id": "DS9TpYsIgktg",
        "outputId": "9aff4526-6187-413c-e3c7-ab1533c1945d"
      },
      "execution_count": 153,
      "outputs": [
        {
          "output_type": "execute_result",
          "data": {
            "text/plain": [
              "7"
            ]
          },
          "metadata": {},
          "execution_count": 153
        }
      ]
    },
    {
      "cell_type": "markdown",
      "source": [
        "Question 2"
      ],
      "metadata": {
        "id": "AoDiMJLu_Ct4"
      }
    },
    {
      "cell_type": "code",
      "source": [
        "dog={}"
      ],
      "metadata": {
        "id": "UXY1sr7UHXtu"
      },
      "execution_count": 154,
      "outputs": []
    },
    {
      "cell_type": "code",
      "source": [
        "dog={'name':'sky','color':'white','breed':'Shih tzu','age':'2','legs':'4'}\n",
        "dog.keys()  #gives the keys of the key value pair"
      ],
      "metadata": {
        "colab": {
          "base_uri": "https://localhost:8080/"
        },
        "id": "SlbjFzYMgnNv",
        "outputId": "f7821f4d-2766-470d-9e90-b4301322af8f"
      },
      "execution_count": 115,
      "outputs": [
        {
          "output_type": "execute_result",
          "data": {
            "text/plain": [
              "dict_keys(['name', 'color', 'breed', 'age', 'legs'])"
            ]
          },
          "metadata": {},
          "execution_count": 115
        }
      ]
    },
    {
      "cell_type": "code",
      "source": [
        "student={'first_name':'lohith',\n",
        "         'last_name':'nadapana',\n",
        "         'gender':'male',\n",
        "         'age':'23',\n",
        "         'martitalstatus':'single',\n",
        "         'skills':'[]',\n",
        "         'country':'India',\n",
        "         'city':'Bhimavaram',\n",
        "         'address':'behind busstand'}\n",
        "student[\"skills\"]=['c','java','python','javascript']  # added the data into skills key"
      ],
      "metadata": {
        "id": "1tt89Z7Bgph-"
      },
      "execution_count": 165,
      "outputs": []
    },
    {
      "cell_type": "code",
      "source": [
        "len(student)"
      ],
      "metadata": {
        "colab": {
          "base_uri": "https://localhost:8080/"
        },
        "id": "1slXZ25rgtAf",
        "outputId": "e245d0e9-ceb1-4ee0-864e-6f7678f81d90"
      },
      "execution_count": 166,
      "outputs": [
        {
          "output_type": "execute_result",
          "data": {
            "text/plain": [
              "9"
            ]
          },
          "metadata": {},
          "execution_count": 166
        }
      ]
    },
    {
      "cell_type": "code",
      "source": [
        "skills_value = student['skills']\n",
        "print(skills_value)\n",
        "print(type(skills_value)) #gives the type of skills_value"
      ],
      "metadata": {
        "colab": {
          "base_uri": "https://localhost:8080/"
        },
        "id": "Y2bvqmLOH-fx",
        "outputId": "5050ad5e-0ab6-41ef-a851-ba2c5b245388"
      },
      "execution_count": 167,
      "outputs": [
        {
          "output_type": "stream",
          "name": "stdout",
          "text": [
            "['c', 'java', 'python', 'javascript']\n",
            "<class 'list'>\n"
          ]
        }
      ]
    },
    {
      "cell_type": "code",
      "source": [
        "student['skills'].extend([\"c++\",\"Meta\"])\n",
        "student['skills']"
      ],
      "metadata": {
        "colab": {
          "base_uri": "https://localhost:8080/"
        },
        "id": "f4e8VvlZH8lS",
        "outputId": "437c067a-82e0-4806-c8d1-52bf9bd24cad"
      },
      "execution_count": 168,
      "outputs": [
        {
          "output_type": "execute_result",
          "data": {
            "text/plain": [
              "['c', 'java', 'python', 'javascript', 'c++', 'Meta']"
            ]
          },
          "metadata": {},
          "execution_count": 168
        }
      ]
    },
    {
      "cell_type": "code",
      "source": [
        "studentkeys=list(student.keys()) #give sthe list of values in keys\n",
        "studentkeys"
      ],
      "metadata": {
        "colab": {
          "base_uri": "https://localhost:8080/"
        },
        "id": "HStfh0ecg015",
        "outputId": "bfe8bf66-8121-4642-fae3-5d22266d8f92"
      },
      "execution_count": 169,
      "outputs": [
        {
          "output_type": "execute_result",
          "data": {
            "text/plain": [
              "['first_name',\n",
              " 'last_name',\n",
              " 'gender',\n",
              " 'age',\n",
              " 'martitalstatus',\n",
              " 'skills',\n",
              " 'country',\n",
              " 'city',\n",
              " 'address']"
            ]
          },
          "metadata": {},
          "execution_count": 169
        }
      ]
    },
    {
      "cell_type": "code",
      "source": [
        "studentvalues=list(student.values()) #give sthe list of values in values\n",
        "studentvalues"
      ],
      "metadata": {
        "colab": {
          "base_uri": "https://localhost:8080/"
        },
        "id": "ybbYycKlg3cz",
        "outputId": "2daeb71a-15d8-407d-8820-c4c824165000"
      },
      "execution_count": 82,
      "outputs": [
        {
          "output_type": "execute_result",
          "data": {
            "text/plain": [
              "['lohith',\n",
              " 'nadapana',\n",
              " 'male',\n",
              " '23',\n",
              " 'single',\n",
              " ['c', 'java', 'python', 'javascript', 't-mobile', 'Meta'],\n",
              " 'India',\n",
              " 'Bhimavaram',\n",
              " 'behind busstand']"
            ]
          },
          "metadata": {},
          "execution_count": 82
        }
      ]
    },
    {
      "cell_type": "markdown",
      "source": [
        "Question 3"
      ],
      "metadata": {
        "id": "SharHVLoIOC7"
      }
    },
    {
      "cell_type": "code",
      "source": [
        "siblingsbro=('geethu','raghu','lohith')\n",
        "siblingssis=('prasanna','ranjini','seethu')\n",
        "print(siblingsbro)\n",
        "print(siblingssis)"
      ],
      "metadata": {
        "colab": {
          "base_uri": "https://localhost:8080/"
        },
        "id": "iBlIrbRDg6mF",
        "outputId": "cddff254-0a39-49cf-e4fb-f6529086401c"
      },
      "execution_count": 83,
      "outputs": [
        {
          "output_type": "stream",
          "name": "stdout",
          "text": [
            "('geethu', 'raghu', 'lohith')\n",
            "('prasanna', 'ranjini', 'seethu')\n"
          ]
        }
      ]
    },
    {
      "cell_type": "code",
      "source": [
        "siblings=siblingssis+siblingsbro #joins the tuples\n",
        "siblings"
      ],
      "metadata": {
        "colab": {
          "base_uri": "https://localhost:8080/"
        },
        "id": "Wy6K29N0g9QL",
        "outputId": "214e17df-8679-44c2-8b09-221052420998"
      },
      "execution_count": 84,
      "outputs": [
        {
          "output_type": "execute_result",
          "data": {
            "text/plain": [
              "('prasanna', 'ranjini', 'seethu', 'geethu', 'raghu', 'lohith')"
            ]
          },
          "metadata": {},
          "execution_count": 84
        }
      ]
    },
    {
      "cell_type": "code",
      "source": [
        "len(siblings)"
      ],
      "metadata": {
        "colab": {
          "base_uri": "https://localhost:8080/"
        },
        "id": "0GuIbedTiHUy",
        "outputId": "504606a7-1aad-4a7c-b820-d1c609bb4647"
      },
      "execution_count": 85,
      "outputs": [
        {
          "output_type": "execute_result",
          "data": {
            "text/plain": [
              "6"
            ]
          },
          "metadata": {},
          "execution_count": 85
        }
      ]
    },
    {
      "cell_type": "code",
      "source": [
        "parents=(\"siva\",\"lakshmi\")\n",
        "family_members=siblings+parents\n",
        "family_members"
      ],
      "metadata": {
        "colab": {
          "base_uri": "https://localhost:8080/"
        },
        "id": "eY_G8Y9siJ12",
        "outputId": "9683cba3-66be-48e2-db77-d91226d08558"
      },
      "execution_count": 86,
      "outputs": [
        {
          "output_type": "execute_result",
          "data": {
            "text/plain": [
              "('prasanna',\n",
              " 'ranjini',\n",
              " 'seethu',\n",
              " 'geethu',\n",
              " 'raghu',\n",
              " 'lohith',\n",
              " 'siva',\n",
              " 'lakshmi')"
            ]
          },
          "metadata": {},
          "execution_count": 86
        }
      ]
    },
    {
      "cell_type": "markdown",
      "source": [
        "Question 4"
      ],
      "metadata": {
        "id": "GGqLLgdaIXxt"
      }
    },
    {
      "cell_type": "code",
      "source": [
        "it_companies = {'Facebook', 'Google', 'Microsoft', 'Apple', 'IBM', 'Oracle', 'Amazon'}\n",
        "A = {19, 22, 24, 20, 25, 26}\n",
        "B = {19, 22, 20, 25, 26, 24, 28, 27}\n",
        "age = [22, 19, 24, 25, 26, 24, 25, 24]\n",
        "len(it_companies)"
      ],
      "metadata": {
        "colab": {
          "base_uri": "https://localhost:8080/"
        },
        "id": "n67dLiqviUXf",
        "outputId": "99d3b88b-69ce-438f-b688-342e97b859fb"
      },
      "execution_count": 87,
      "outputs": [
        {
          "output_type": "execute_result",
          "data": {
            "text/plain": [
              "7"
            ]
          },
          "metadata": {},
          "execution_count": 87
        }
      ]
    },
    {
      "cell_type": "code",
      "source": [
        "it_companies.add('twitter')  #adds new value to the set\n",
        "it_companies"
      ],
      "metadata": {
        "colab": {
          "base_uri": "https://localhost:8080/"
        },
        "id": "oGxrqVHhicPp",
        "outputId": "45c2d1fd-fc16-4671-8887-193596ccab7f"
      },
      "execution_count": 88,
      "outputs": [
        {
          "output_type": "execute_result",
          "data": {
            "text/plain": [
              "{'Amazon',\n",
              " 'Apple',\n",
              " 'Facebook',\n",
              " 'Google',\n",
              " 'IBM',\n",
              " 'Microsoft',\n",
              " 'Oracle',\n",
              " 'twitter'}"
            ]
          },
          "metadata": {},
          "execution_count": 88
        }
      ]
    },
    {
      "cell_type": "code",
      "source": [
        "it_companies.update(['LinkedIn', 'Snapchat', 'Spotify']) #added multiple values to the set\n",
        "print(it_companies)"
      ],
      "metadata": {
        "colab": {
          "base_uri": "https://localhost:8080/"
        },
        "id": "s6y2xuofigak",
        "outputId": "77eec81c-5fa9-46d9-9f43-7f648b8287a2"
      },
      "execution_count": 89,
      "outputs": [
        {
          "output_type": "stream",
          "name": "stdout",
          "text": [
            "{'twitter', 'Apple', 'Microsoft', 'Amazon', 'LinkedIn', 'Spotify', 'Facebook', 'Snapchat', 'Oracle', 'Google', 'IBM'}\n"
          ]
        }
      ]
    },
    {
      "cell_type": "code",
      "source": [
        "it_companies.remove('Snapchat') #removes the element\n",
        "it_companies"
      ],
      "metadata": {
        "colab": {
          "base_uri": "https://localhost:8080/"
        },
        "id": "z8wptWJZiiS2",
        "outputId": "54a3ac69-18bf-4936-e03f-655881ff39e3"
      },
      "execution_count": 90,
      "outputs": [
        {
          "output_type": "execute_result",
          "data": {
            "text/plain": [
              "{'Amazon',\n",
              " 'Apple',\n",
              " 'Facebook',\n",
              " 'Google',\n",
              " 'IBM',\n",
              " 'LinkedIn',\n",
              " 'Microsoft',\n",
              " 'Oracle',\n",
              " 'Spotify',\n",
              " 'twitter'}"
            ]
          },
          "metadata": {},
          "execution_count": 90
        }
      ]
    },
    {
      "cell_type": "code",
      "source": [
        "it_companies.discard('IBM')"
      ],
      "metadata": {
        "id": "_c_SYAhvivCN"
      },
      "execution_count": 171,
      "outputs": []
    },
    {
      "cell_type": "code",
      "source": [
        "new=A.union(B) #joins the sets and removes repetition\n",
        "new"
      ],
      "metadata": {
        "colab": {
          "base_uri": "https://localhost:8080/"
        },
        "id": "XCMpm17ei4Kx",
        "outputId": "7aa82428-3c52-4825-e68b-c887338baff5"
      },
      "execution_count": 95,
      "outputs": [
        {
          "output_type": "execute_result",
          "data": {
            "text/plain": [
              "{19, 20, 22, 24, 25, 26, 27, 28}"
            ]
          },
          "metadata": {},
          "execution_count": 95
        }
      ]
    },
    {
      "cell_type": "code",
      "source": [
        "new1=A.intersection(B) #gives the common elements\n",
        "new1"
      ],
      "metadata": {
        "colab": {
          "base_uri": "https://localhost:8080/"
        },
        "id": "VSgR0LJai5PA",
        "outputId": "ff7a3117-27bd-4706-852d-ad7863357077"
      },
      "execution_count": 96,
      "outputs": [
        {
          "output_type": "execute_result",
          "data": {
            "text/plain": [
              "{19, 20, 22, 24, 25, 26}"
            ]
          },
          "metadata": {},
          "execution_count": 96
        }
      ]
    },
    {
      "cell_type": "code",
      "source": [
        "new2=A.issubset(B) #verifies whether it is a subset or not\n",
        "new2"
      ],
      "metadata": {
        "colab": {
          "base_uri": "https://localhost:8080/"
        },
        "id": "F6QV6PrFi8Xy",
        "outputId": "73c9d0c2-0184-4001-b5cf-708050043ff4"
      },
      "execution_count": 97,
      "outputs": [
        {
          "output_type": "execute_result",
          "data": {
            "text/plain": [
              "True"
            ]
          },
          "metadata": {},
          "execution_count": 97
        }
      ]
    },
    {
      "cell_type": "code",
      "source": [
        "A.isdisjoint(B)"
      ],
      "metadata": {
        "colab": {
          "base_uri": "https://localhost:8080/"
        },
        "id": "Wm4aVEfLi-tc",
        "outputId": "8eeb0dcd-8e45-41a9-b149-0bd8bbf7aeee"
      },
      "execution_count": 98,
      "outputs": [
        {
          "output_type": "execute_result",
          "data": {
            "text/plain": [
              "False"
            ]
          },
          "metadata": {},
          "execution_count": 98
        }
      ]
    },
    {
      "cell_type": "code",
      "source": [
        "A.update(B) #updates one set ith the other\n",
        "A"
      ],
      "metadata": {
        "colab": {
          "base_uri": "https://localhost:8080/"
        },
        "id": "2yTMFBb-jA6u",
        "outputId": "e577c4b2-c849-4b66-861b-76e13b97dabc"
      },
      "execution_count": 99,
      "outputs": [
        {
          "output_type": "execute_result",
          "data": {
            "text/plain": [
              "{19, 20, 22, 24, 25, 26, 27, 28}"
            ]
          },
          "metadata": {},
          "execution_count": 99
        }
      ]
    },
    {
      "cell_type": "code",
      "source": [
        "B.update(A)\n",
        "B"
      ],
      "metadata": {
        "colab": {
          "base_uri": "https://localhost:8080/"
        },
        "id": "8Ww2VD3LjEgC",
        "outputId": "ad5b34f2-603c-4196-f1a6-26c7970d1f50"
      },
      "execution_count": 100,
      "outputs": [
        {
          "output_type": "execute_result",
          "data": {
            "text/plain": [
              "{19, 20, 22, 24, 25, 26, 27, 28}"
            ]
          },
          "metadata": {},
          "execution_count": 100
        }
      ]
    },
    {
      "cell_type": "code",
      "source": [
        "A = {19, 22, 24, 20, 25, 26}\n",
        "B = {19, 22, 20, 25, 26, 24, 28, 27}\n",
        "A_symmetric_difference_B = A.symmetric_difference(B) #gives the symmetric difference\n",
        "print(A_symmetric_difference_B)"
      ],
      "metadata": {
        "colab": {
          "base_uri": "https://localhost:8080/"
        },
        "id": "3_l9MSogjGjN",
        "outputId": "291797c8-6773-45b0-90b0-66433802243a"
      },
      "execution_count": 101,
      "outputs": [
        {
          "output_type": "stream",
          "name": "stdout",
          "text": [
            "{27, 28}\n"
          ]
        }
      ]
    },
    {
      "cell_type": "code",
      "source": [
        "del A\n",
        "del B"
      ],
      "metadata": {
        "id": "ZntW2e04jJNm"
      },
      "execution_count": 102,
      "outputs": []
    },
    {
      "cell_type": "code",
      "source": [
        "age = [22, 19, 24, 25, 26, 24, 25, 24]\n",
        "age_set = set(age)\n",
        "print(len(age))\n",
        "print(len(age_set))"
      ],
      "metadata": {
        "colab": {
          "base_uri": "https://localhost:8080/"
        },
        "id": "YHPpqOCQjMJQ",
        "outputId": "d6c6c8ec-fb0c-44bf-882e-fa9efb1ef22c"
      },
      "execution_count": 103,
      "outputs": [
        {
          "output_type": "stream",
          "name": "stdout",
          "text": [
            "8\n",
            "5\n"
          ]
        }
      ]
    },
    {
      "cell_type": "markdown",
      "source": [
        "Question 5"
      ],
      "metadata": {
        "id": "zTK1nw4BIlUt"
      }
    },
    {
      "cell_type": "code",
      "source": [
        "rad=30\n",
        "area_of_circle=3.14*rad*rad\n",
        "area_of_circle"
      ],
      "metadata": {
        "colab": {
          "base_uri": "https://localhost:8080/"
        },
        "id": "8Dpn4l1ijOO5",
        "outputId": "516c0812-523e-467c-db06-bd68977fc9a8"
      },
      "execution_count": 104,
      "outputs": [
        {
          "output_type": "execute_result",
          "data": {
            "text/plain": [
              "2826.0"
            ]
          },
          "metadata": {},
          "execution_count": 104
        }
      ]
    },
    {
      "cell_type": "code",
      "source": [
        "circum_of_circle=2*3.14*rad\n",
        "circum_of_circle"
      ],
      "metadata": {
        "colab": {
          "base_uri": "https://localhost:8080/"
        },
        "id": "63oCZf4XjQNx",
        "outputId": "dae869a3-a58b-4b67-9697-d56a57025c7b"
      },
      "execution_count": 105,
      "outputs": [
        {
          "output_type": "execute_result",
          "data": {
            "text/plain": [
              "188.4"
            ]
          },
          "metadata": {},
          "execution_count": 105
        }
      ]
    },
    {
      "cell_type": "code",
      "source": [
        "import math\n",
        "radius = float(input(\"Enter the radius of the circle: \")) # takes the radius value as a input from user\n",
        "area = math.pi * radius ** 2\n",
        "area"
      ],
      "metadata": {
        "colab": {
          "base_uri": "https://localhost:8080/"
        },
        "id": "CGOmMfikjSVL",
        "outputId": "62416f44-602f-4480-fde7-8595a63b994d"
      },
      "execution_count": 106,
      "outputs": [
        {
          "name": "stdout",
          "output_type": "stream",
          "text": [
            "Enter the radius of the circle: 30\n"
          ]
        },
        {
          "output_type": "execute_result",
          "data": {
            "text/plain": [
              "2827.4333882308138"
            ]
          },
          "metadata": {},
          "execution_count": 106
        }
      ]
    },
    {
      "cell_type": "markdown",
      "source": [
        "Question 6"
      ],
      "metadata": {
        "id": "uYEOulUSIubB"
      }
    },
    {
      "cell_type": "code",
      "source": [
        "sentence = \"I am a teacher and I love to inspire and teach people\"\n",
        "words = sentence.split()\n",
        "unique_words = set(words)\n",
        "number_of_unique_words = len(unique_words)\n",
        "number_of_unique_words"
      ],
      "metadata": {
        "colab": {
          "base_uri": "https://localhost:8080/"
        },
        "id": "teOIDAnWjXLd",
        "outputId": "6286de4a-1394-4557-e750-c6f52f7c57a7"
      },
      "execution_count": 107,
      "outputs": [
        {
          "output_type": "execute_result",
          "data": {
            "text/plain": [
              "10"
            ]
          },
          "metadata": {},
          "execution_count": 107
        }
      ]
    },
    {
      "cell_type": "markdown",
      "source": [
        "Question 7"
      ],
      "metadata": {
        "id": "s449GWBeIyEl"
      }
    },
    {
      "cell_type": "code",
      "source": [
        "header = \"Name\\tAge\\tCountry\\tCity\"\n",
        "data = \"Asabeneh\\t250\\tFinland\\tHelsinki\"\n",
        "print(header)\n",
        "print(data)"
      ],
      "metadata": {
        "colab": {
          "base_uri": "https://localhost:8080/"
        },
        "id": "-gpP434LjZwq",
        "outputId": "1347bb21-6408-47d1-c4a4-10d937151545"
      },
      "execution_count": 108,
      "outputs": [
        {
          "output_type": "stream",
          "name": "stdout",
          "text": [
            "Name\tAge\tCountry\tCity\n",
            "Asabeneh\t250\tFinland\tHelsinki\n"
          ]
        }
      ]
    },
    {
      "cell_type": "markdown",
      "source": [
        "Question 8"
      ],
      "metadata": {
        "id": "_V41Q3hbI24p"
      }
    },
    {
      "cell_type": "code",
      "source": [
        "radius = 10\n",
        "area = 3.14 * radius ** 2\n",
        "\n",
        "message = \"The area of a circle with radius {} is {:.2f} meters square.\".format(radius, area)\n",
        "message"
      ],
      "metadata": {
        "colab": {
          "base_uri": "https://localhost:8080/",
          "height": 36
        },
        "id": "2hHz2067jebB",
        "outputId": "36287312-0856-4e5c-9394-e29e00b80ed4"
      },
      "execution_count": 109,
      "outputs": [
        {
          "output_type": "execute_result",
          "data": {
            "text/plain": [
              "'The area of a circle with radius 10 is 314.00 meters square.'"
            ],
            "application/vnd.google.colaboratory.intrinsic+json": {
              "type": "string"
            }
          },
          "metadata": {},
          "execution_count": 109
        }
      ]
    },
    {
      "cell_type": "markdown",
      "source": [
        "Question 9"
      ],
      "metadata": {
        "id": "I7LrBadgI5eq"
      }
    },
    {
      "cell_type": "code",
      "source": [
        "# Read the number of elements\n",
        "n = int(input(\"Enter the number of students: \"))\n",
        "\n",
        "# Initialize an empty list for weights in pounds\n",
        "weights_lbs = []\n",
        "\n",
        "# Use a while loop to read and append elements to the list\n",
        "i = 0\n",
        "while i < n:\n",
        "    weight_lbs = int(input(f\"Enter element {i+1} (in pounds): \"))\n",
        "    weights_lbs.append(weight_lbs)\n",
        "    i += 1\n",
        "\n",
        "# Convert weights from pounds to kilograms and round to 2 decimal places\n",
        "weights_kg = []\n",
        "i = 0\n",
        "while i < len(weights_lbs):\n",
        "    weight_kg = round(weights_lbs[i] * 0.453592, 2)\n",
        "    weights_kg.append(weight_kg)\n",
        "    i += 1\n",
        "\n",
        "# Print the weights in kilograms\n",
        "print(weights_kg)"
      ],
      "metadata": {
        "colab": {
          "base_uri": "https://localhost:8080/"
        },
        "id": "QYonIxC1jkC0",
        "outputId": "a1750f4b-9a12-4fd4-eac5-0f382e4b41d1"
      },
      "execution_count": 170,
      "outputs": [
        {
          "output_type": "stream",
          "name": "stdout",
          "text": [
            "Enter the number of students: 4\n",
            "Enter element 1 (in pounds): 150\n",
            "Enter element 2 (in pounds): 155\n",
            "Enter element 3 (in pounds): 145\n",
            "Enter element 4 (in pounds): 148\n",
            "[68.04, 70.31, 65.77, 67.13]\n"
          ]
        }
      ]
    }
  ]
}